{
 "cells": [
  {
   "cell_type": "markdown",
   "metadata": {},
   "source": [
    "# Applicant Details\n",
    "\n",
    "* Full Name: Omeh, Chukwuemeka Christian\n",
    "* Email: chukwuemekao241@gmail.com\n",
    "* Phone Number: 08165468858\n",
    "* Linkeld Profile: [Click Here](https://www.linkedin.com/in/omeh-chukwuemeka-christian-b49b7413a)\n",
    "* Assessment Github Repo: [Click Here](https://github.com/ChrisOmeh/Cyphercrescent_Test_Exercise)"
   ]
  },
  {
   "cell_type": "markdown",
   "metadata": {},
   "source": [
    "## PROJECT ARCHITECTURE\n",
    "\n",
    "### Tools\n",
    "* Excel\n",
    "* Python language\n",
    "* Pycharm IDE\n",
    "* Flask\n",
    "* Turtle\n",
    "* Tkinter\n",
    "* Jupyter Notebook\n",
    "* Git and Github\n",
    "\n",
    "### Aim\n",
    "* To develop a computer program that will find the value of Z-factor using the production and PVT data given."
   ]
  },
  {
   "cell_type": "markdown",
   "metadata": {},
   "source": [
    "# Exercise Two\n",
    "The equation given by Hall and Yarborough (Ikoku, 1984) is given below:\n",
    "\n",
    "$z =  \\frac{0.06125P_{pr}te^{-1.2(1-t)^2}}{y} $\n",
    "\n",
    "Where t = 1 / Tpr, and y = the reduced density which is obtained as the solution of the equation: \n",
    "\n",
    "$ F(y) = \\ 0.06125P_{pr}te^{-1.2(1-t)^2} + \\frac{y+y^2+y^3-y^4}{(1-y)^3} - \\ (14.76t - 9.76t^2 + 4.58t^3)y^2 + \\ (90.7t - 242.2t^2 + 42.4t^3)y^ {2.18+2.82t} $\n",
    "\n",
    "\n",
    "Ppr is defined as the Pseudo Reduced Pressure; while Tpr is defined as the Pseudo Reduced  Temperature.  \n",
    "Ppc = 677 + 15.0 γg - 37.5 γg2; and Tpc = 168 + 325 γg - 12.5 γg2, where γg is the specific gravity. \n",
    "For Natural gas with specific gravity of 0.7, at a pressure of 2000 psia and a temperature of 180 deg  Fahrenheit, use the equations above to calculate the z-factor, considering the presence of the non hydrocarbon components: N2 = 0.5%, CO2 = 2% and H2S = 0.1%. "
   ]
  },
  {
   "cell_type": "markdown",
   "metadata": {},
   "source": [
    "# Import libraries\n",
    "* Pandas: Is python library for data analysis. In this case, it will help us create a table of gas componets\n",
    "* numpy: Is python library for numeric computing. Will help us in handling large operations\n",
    "* matplot and seaborn: Are libraries for visualizations\n",
    "* math and cmath: Are python module for performing mathematical operations\n",
    "* scipy: Is python library for performing scientific computations. It will help us solve F(y) using Newton Raphson Iterative Technique"
   ]
  },
  {
   "cell_type": "code",
   "execution_count": 1,
   "metadata": {},
   "outputs": [],
   "source": [
    "import pandas as pd \n",
    "import numpy as np\n",
    "import matplotlib.pyplot as plt\n",
    "import seaborn as sns\n",
    "import scipy\n",
    "from math import *\n",
    "from cmath import *"
   ]
  },
  {
   "cell_type": "code",
   "execution_count": 2,
   "metadata": {},
   "outputs": [
    {
     "data": {
      "text/html": [
       "<div>\n",
       "<style scoped>\n",
       "    .dataframe tbody tr th:only-of-type {\n",
       "        vertical-align: middle;\n",
       "    }\n",
       "\n",
       "    .dataframe tbody tr th {\n",
       "        vertical-align: top;\n",
       "    }\n",
       "\n",
       "    .dataframe thead th {\n",
       "        text-align: right;\n",
       "    }\n",
       "</style>\n",
       "<table border=\"1\" class=\"dataframe\">\n",
       "  <thead>\n",
       "    <tr style=\"text-align: right;\">\n",
       "      <th></th>\n",
       "      <th>Components</th>\n",
       "      <th>Mole fraction(Yi)</th>\n",
       "      <th>Molecular weight(Mi)</th>\n",
       "      <th>Critical Temp(Tci)</th>\n",
       "      <th>Critical pressure(Pci)</th>\n",
       "    </tr>\n",
       "  </thead>\n",
       "  <tbody>\n",
       "    <tr>\n",
       "      <th>0</th>\n",
       "      <td>N2</td>\n",
       "      <td>0.005</td>\n",
       "      <td>28.01</td>\n",
       "      <td>227</td>\n",
       "      <td>493</td>\n",
       "    </tr>\n",
       "    <tr>\n",
       "      <th>1</th>\n",
       "      <td>CO2</td>\n",
       "      <td>0.020</td>\n",
       "      <td>44.01</td>\n",
       "      <td>548</td>\n",
       "      <td>1071</td>\n",
       "    </tr>\n",
       "    <tr>\n",
       "      <th>2</th>\n",
       "      <td>H2S</td>\n",
       "      <td>0.001</td>\n",
       "      <td>34.08</td>\n",
       "      <td>672</td>\n",
       "      <td>1306</td>\n",
       "    </tr>\n",
       "  </tbody>\n",
       "</table>\n",
       "</div>"
      ],
      "text/plain": [
       "  Components  Mole fraction(Yi)  Molecular weight(Mi)  Critical Temp(Tci)  \\\n",
       "0         N2              0.005                 28.01                 227   \n",
       "1        CO2              0.020                 44.01                 548   \n",
       "2        H2S              0.001                 34.08                 672   \n",
       "\n",
       "   Critical pressure(Pci)  \n",
       "0                     493  \n",
       "1                    1071  \n",
       "2                    1306  "
      ]
     },
     "execution_count": 2,
     "metadata": {},
     "output_type": "execute_result"
    }
   ],
   "source": [
    "# Creating component table\n",
    "\"\"\"\n",
    "Since the question said \"considering presence of non hydrocarbon components\", \n",
    "we shall find various properties of these gas.\n",
    "\n",
    "Percenatge of Non hydrocarbon gas components:\n",
    "N2 = 0.5%\n",
    "CO2 = 2%\n",
    "H2S = 0.1%\n",
    "\n",
    "Gas specific gravity(Yg) = 0.7\n",
    "\"\"\"\n",
    "com_table_dict = {\"Components\": [\"N2\", \"CO2\", \"H2S\"],\n",
    "             \"Mole fraction(Yi)\": [0.005, 0.02, 0.001],\n",
    "             \"Molecular weight(Mi)\": [28.01, 44.01, 34.08],\n",
    "             \"Critical Temp(Tci)\": [227, 548, 672],\n",
    "             \"Critical pressure(Pci)\": [493, 1071, 1306]\n",
    "            }\n",
    "\n",
    "com_tb = pd.DataFrame.from_dict(com_table_dict)\n",
    "com_tb.head()"
   ]
  },
  {
   "cell_type": "code",
   "execution_count": 3,
   "metadata": {},
   "outputs": [
    {
     "data": {
      "text/html": [
       "<div>\n",
       "<style scoped>\n",
       "    .dataframe tbody tr th:only-of-type {\n",
       "        vertical-align: middle;\n",
       "    }\n",
       "\n",
       "    .dataframe tbody tr th {\n",
       "        vertical-align: top;\n",
       "    }\n",
       "\n",
       "    .dataframe thead th {\n",
       "        text-align: right;\n",
       "    }\n",
       "</style>\n",
       "<table border=\"1\" class=\"dataframe\">\n",
       "  <thead>\n",
       "    <tr style=\"text-align: right;\">\n",
       "      <th></th>\n",
       "      <th>Components</th>\n",
       "      <th>Mole fraction(Yi)</th>\n",
       "      <th>Molecular weight(Mi)</th>\n",
       "      <th>Critical Temp(Tci)</th>\n",
       "      <th>Critical pressure(Pci)</th>\n",
       "      <th>YiMi</th>\n",
       "      <th>Tpc</th>\n",
       "      <th>Ppc</th>\n",
       "    </tr>\n",
       "  </thead>\n",
       "  <tbody>\n",
       "    <tr>\n",
       "      <th>0</th>\n",
       "      <td>N2</td>\n",
       "      <td>0.005</td>\n",
       "      <td>28.01</td>\n",
       "      <td>227</td>\n",
       "      <td>493</td>\n",
       "      <td>0.14005</td>\n",
       "      <td>1.135</td>\n",
       "      <td>2.465</td>\n",
       "    </tr>\n",
       "    <tr>\n",
       "      <th>1</th>\n",
       "      <td>CO2</td>\n",
       "      <td>0.020</td>\n",
       "      <td>44.01</td>\n",
       "      <td>548</td>\n",
       "      <td>1071</td>\n",
       "      <td>0.88020</td>\n",
       "      <td>10.960</td>\n",
       "      <td>21.420</td>\n",
       "    </tr>\n",
       "    <tr>\n",
       "      <th>2</th>\n",
       "      <td>H2S</td>\n",
       "      <td>0.001</td>\n",
       "      <td>34.08</td>\n",
       "      <td>672</td>\n",
       "      <td>1306</td>\n",
       "      <td>0.03408</td>\n",
       "      <td>0.672</td>\n",
       "      <td>1.306</td>\n",
       "    </tr>\n",
       "  </tbody>\n",
       "</table>\n",
       "</div>"
      ],
      "text/plain": [
       "  Components  Mole fraction(Yi)  Molecular weight(Mi)  Critical Temp(Tci)  \\\n",
       "0         N2              0.005                 28.01                 227   \n",
       "1        CO2              0.020                 44.01                 548   \n",
       "2        H2S              0.001                 34.08                 672   \n",
       "\n",
       "   Critical pressure(Pci)     YiMi     Tpc     Ppc  \n",
       "0                     493  0.14005   1.135   2.465  \n",
       "1                    1071  0.88020  10.960  21.420  \n",
       "2                    1306  0.03408   0.672   1.306  "
      ]
     },
     "execution_count": 3,
     "metadata": {},
     "output_type": "execute_result"
    }
   ],
   "source": [
    "com_tb[\"YiMi\"] = com_tb.apply(lambda x: x['Mole fraction(Yi)'] * x['Molecular weight(Mi)'], axis = 1)\n",
    "com_tb[\"Tpc\"] = com_tb.apply(lambda x: x['Mole fraction(Yi)'] * x['Critical Temp(Tci)'], axis = 1)\n",
    "com_tb[\"Ppc\"] = com_tb.apply(lambda x: x['Mole fraction(Yi)'] * x['Critical pressure(Pci)'], axis = 1)\n",
    "com_tb.head()"
   ]
  },
  {
   "cell_type": "code",
   "execution_count": 4,
   "metadata": {},
   "outputs": [
    {
     "data": {
      "image/png": "[encoded data removed]",
      "text/plain": [
       "<Figure size 1080x504 with 9 Axes>"
      ]
     },
     "metadata": {
      "needs_background": "light"
     },
     "output_type": "display_data"
    }
   ],
   "source": [
    "com_tb.hist(bins = 15, figsize = (15, 7));"
   ]
  },
  {
   "cell_type": "code",
   "execution_count": 5,
   "metadata": {},
   "outputs": [
    {
     "name": "stdout",
     "output_type": "stream",
     "text": [
      "The overall Pseudo critical temperature is: 402.142 deg R\n"
     ]
    }
   ],
   "source": [
    "Gas_specific_gravity = 0.7\n",
    "overall_Tpc = round(com_tb['Tpc'].sum(),3) + (168 + 325*(Gas_specific_gravity) - 12.5*pow(Gas_specific_gravity, 2))\n",
    "print(\"The overall Pseudo critical temperature is: {} deg R\".format(overall_Tpc))"
   ]
  },
  {
   "cell_type": "code",
   "execution_count": 6,
   "metadata": {},
   "outputs": [
    {
     "name": "stdout",
     "output_type": "stream",
     "text": [
      "The overall Pseudo critical pressure is: 694.316psia\n"
     ]
    }
   ],
   "source": [
    "overall_Ppc = round(com_tb['Ppc'].sum(),3) + (677 + 15*(Gas_specific_gravity) - 37.5*pow(Gas_specific_gravity, 2))\n",
    "print(\"The overall Pseudo critical pressure is: {}psia\".format(overall_Ppc))"
   ]
  },
  {
   "cell_type": "code",
   "execution_count": 7,
   "metadata": {},
   "outputs": [
    {
     "name": "stdout",
     "output_type": "stream",
     "text": [
      "The Pseudo reduced temperature(Tpr) is: 1.59\n"
     ]
    }
   ],
   "source": [
    "Temperature_F = 180\n",
    "# Converting to deg rankine\n",
    "Temperature_R = 460+180\n",
    "Tpr = round(Temperature_R/overall_Tpc, 2)\n",
    "print(f\"The Pseudo reduced temperature(Tpr) is: {Tpr}\")"
   ]
  },
  {
   "cell_type": "code",
   "execution_count": 8,
   "metadata": {},
   "outputs": [
    {
     "name": "stdout",
     "output_type": "stream",
     "text": [
      "The pseudo reduced pressure(Ppr) is: 2.88\n"
     ]
    }
   ],
   "source": [
    "# Finding the Pseudo reduced pressure\n",
    "pressure = 2000\n",
    "Ppr = round(pressure/overall_Ppc, 2)\n",
    "print(f\"The pseudo reduced pressure(Ppr) is: {Ppr}\")"
   ]
  },
  {
   "cell_type": "code",
   "execution_count": 9,
   "metadata": {},
   "outputs": [
    {
     "name": "stdout",
     "output_type": "stream",
     "text": [
      "The value of t is: 0.63\n"
     ]
    }
   ],
   "source": [
    "# Finding t parametre of F(y)\n",
    "\n",
    "t = round(pow(Tpr, -1),2)\n",
    "print(f\"The value of t is: {t}\")"
   ]
  },
  {
   "cell_type": "markdown",
   "metadata": {},
   "source": [
    "# Apply Newton Raphson Iterative Technique on the F(y)\n",
    "## Conditions\n",
    "\n",
    "1. Find the first derivative f'(y) and define the Newton Raphson equation\n",
    "2. Guess initial value of y for the first iteration\n",
    "3. Substitute y in the Newton Raphson equation and calculate the y<sup>*</sup>\n",
    "4. If absolute |y<sup>*</sup> - y| < tolerance, stop iteration and output the root y<sup>*</sup>\n",
    "5. If number of iteration reaches assumed max value, stop"
   ]
  },
  {
   "cell_type": "code",
   "execution_count": 10,
   "metadata": {},
   "outputs": [],
   "source": [
    "# F(y) = (-0.06125*Ppr*t*e-1.2*(1-t)**2) + ((y+y**2+y**3-y**4)/(1-y)**3) - ((14.76*t - 9.76*t**2 + 4.58*t**3)*y**2)+\n",
    "#         ((90.7*t - 242.2*t**2 + 42.4*t**3)*y**(2.18 + 2.82*t))\n",
    "    \n",
    "# -0.00458 + ((y + y**2+y**3-y**4)/(1-y)**3) - 6.57*y**2 - 28.39*y**4"
   ]
  },
  {
   "cell_type": "code",
   "execution_count": 11,
   "metadata": {},
   "outputs": [
    {
     "name": "stdout",
     "output_type": "stream",
     "text": [
      "(0.004636627842256463,       converged: True\n",
      "           flag: 'converged'\n",
      " function_calls: 33\n",
      "     iterations: 32\n",
      "           root: 0.004636627842256463) \n",
      "\n",
      "The roots of the F(y) is: 0.00464\n"
     ]
    },
    {
     "data": {
      "text/plain": [
       "0.004636627842256463"
      ]
     },
     "execution_count": 11,
     "metadata": {},
     "output_type": "execute_result"
    }
   ],
   "source": [
    "# Finding the roots of function F(y) to determine value of y parametre\n",
    "def Newton_Raphason():\n",
    "    from scipy import optimize\n",
    "\n",
    "    def fun(y):\n",
    "        return (-0.06125*Ppr*t*e**-1.2*(1-t)**2) + ((y+y**2+y**3-y**4)/(1-y)**3) - ((14.76*t - 9.76*t**2 + 4.58*t**3)*y**2)+((90.7*t - 242.2*t**2 + 42.4*t**3)*y**(2.18 + 2.82*t))\n",
    "\n",
    "    roots = optimize.newton(fun, x0 = 2, full_output=True)\n",
    "    print(roots,\"\\n\")\n",
    "    print(\"The roots of the F(y) is: {:.5f}\".format(roots[0]))\n",
    "    return roots[0]\n",
    "Newton_Raphason()"
   ]
  },
  {
   "cell_type": "markdown",
   "metadata": {},
   "source": [
    "* From the result of using Newton Raphson Iterative technique to solve the F(y), the best value of y is 0.00464"
   ]
  },
  {
   "cell_type": "code",
   "execution_count": 12,
   "metadata": {},
   "outputs": [
    {
     "data": {
      "text/plain": [
       "0.988"
      ]
     },
     "execution_count": 12,
     "metadata": {},
     "output_type": "execute_result"
    }
   ],
   "source": [
    "# Determing Gas Deviation Factor or z-factor(z)\n",
    "\n",
    "def z_factor(Ppr = 2.88, t = 0.63, y = 0.004636627842256463):\n",
    "    Z_factor = 0.06125*Ppr*t*e**-1.2*(1-t)**2 / y\n",
    "    return round(Z_factor,3)\n",
    "z_factor()"
   ]
  },
  {
   "cell_type": "markdown",
   "metadata": {},
   "source": [
    "# Reuseable code script or snippet\n",
    "\n",
    "* method to calculate Ppc\n",
    "* method to calcualte Tpc\n",
    "* method to calculate t\n",
    "* method to find y"
   ]
  },
  {
   "cell_type": "code",
   "execution_count": 13,
   "metadata": {},
   "outputs": [
    {
     "name": "stdout",
     "output_type": "stream",
     "text": [
      "Pls enter the value of Gas specific Gravity, Yg0.7\n"
     ]
    },
    {
     "data": {
      "text/plain": [
       "'The z-factor is 0.988'"
      ]
     },
     "execution_count": 13,
     "metadata": {},
     "output_type": "execute_result"
    }
   ],
   "source": [
    "class Z_factor:\n",
    "    def __init__(self, Yg = float(input(\"Pls enter the value of Gas specific Gravity, Yg\"))):\n",
    "        self.Yg = Yg\n",
    "    \n",
    "    def Pseudo_critical_pressure(self):\n",
    "        Ppc = 677 + 15*(self.Yg) - 37.5*pow(self.Yg, 2)\n",
    "        return Ppc\n",
    "    \n",
    "    def Pseudo_critical_temp(self):\n",
    "        Tpc = 168 + 325*(self.Yg) - 12.5*pow(self.Yg, 2)\n",
    "        return Tpc\n",
    "    \n",
    "    def t_param(self):\n",
    "        t = 1/ self.Pseudo_critical_temp(self)\n",
    "        return t\n",
    "        \n",
    "    def Newton_Raphason_y(self):\n",
    "        from scipy import optimize\n",
    "\n",
    "        def fun(y):\n",
    "            return (-0.06125*Ppr*t*e**-1.2*(1-t)**2) + ((y+y**2+y**3-y**4)/(1-y)**3) - ((14.76*t - 9.76*t**2 + 4.58*t**3)*y**2)+((90.7*t - 242.2*t**2 + 42.4*t**3)*y**(2.18 + 2.82*t))\n",
    "\n",
    "        roots = optimize.newton(fun, x0 = 2, full_output=True)\n",
    "        y = roots[0]\n",
    "        return round(y, 5)\n",
    "    \n",
    "    def z_factor(self):\n",
    "        Z_factor = 0.06125*Ppr*t*e**-1.2*(1-t)**2 / self.Newton_Raphason_y()\n",
    "        return \"The z-factor is {}\".format(round(Z_factor,3))\n",
    "\n",
    "\n",
    "Z  = Z_factor()\n",
    "Z.z_factor()\n",
    "        "
   ]
  }
 ],
 "metadata": {
  "kernelspec": {
   "display_name": "Python 3",
   "language": "python",
   "name": "python3"
  },
  "language_info": {
   "codemirror_mode": {
    "name": "ipython",
    "version": 3
   },
   "file_extension": ".py",
   "mimetype": "text/x-python",
   "name": "python",
   "nbconvert_exporter": "python",
   "pygments_lexer": "ipython3",
   "version": "3.8.5"
  }
 },
 "nbformat": 4,
 "nbformat_minor": 4
}
